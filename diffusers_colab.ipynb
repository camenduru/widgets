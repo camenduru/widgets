{
  "cells": [
    {
      "cell_type": "markdown",
      "metadata": {
        "id": "view-in-github"
      },
      "source": [
        "[![Open In Colab](https://colab.research.google.com/assets/colab-badge.svg)](https://colab.research.google.com/github/camenduru/widgets-colab/blob/main/diffusers_colab.ipynb)"
      ]
    },
    {
      "cell_type": "code",
      "execution_count": null,
      "metadata": {
        "id": "VjYy0F2gZIPR"
      },
      "outputs": [],
      "source": [
        "!pip install -q diffusers mediapy\n",
        "\n",
        "from diffusers import StableDiffusionPipeline\n",
        "import torch\n",
        "pipe = StableDiffusionPipeline.from_pretrained(\"runwayml/stable-diffusion-v1-5\", variant='fp16', torch_dtype=torch.float16).to(\"cuda\")\n",
        "\n",
        "from ipywidgets import Layout, Button, Box, VBox, IntText, FloatText, Textarea, Dropdown, Label, Output\n",
        "import mediapy as media\n",
        "\n",
        "prompt = Textarea(value='cat')\n",
        "negative_prompt = Textarea(value='blurry')\n",
        "height = Dropdown(options=[('512px', 512), ('1024px', 1024)], value=512)\n",
        "width = Dropdown(options=[('512px', 512), ('1024px', 1024)], value=512)\n",
        "steps = IntText(value=50)\n",
        "guidance_scale= FloatText(value=7.5)\n",
        "num_images_per_prompt = IntText(value=1)\n",
        "button = Button(description='Generate', button_style='success')\n",
        "output = Output()\n",
        "\n",
        "def calculate(i):\n",
        "  output.clear_output()\n",
        "  button.disabled = True\n",
        "  with output: \n",
        "    images = pipe(prompt=prompt.value, negative_prompt=negative_prompt.value, height=height.value, width=width.value, num_inference_steps=steps.value, guidance_scale=guidance_scale.value, num_images_per_prompt = num_images_per_prompt.value,).images\n",
        "    media.show_images(images)\n",
        "  button.disabled = False\n",
        "\n",
        "button.on_click(calculate)\n",
        "\n",
        "form_item_layout = Layout(display='flex', flex_flow='row', align_items='stretch', border=None, justify_content='space-between', width = \"600px\")\n",
        "form_items = [\n",
        "    Box([Label(value='Prompt'), prompt], layout=form_item_layout),\n",
        "    Box([Label(value='Negative Prompt'), negative_prompt], layout=form_item_layout),\n",
        "    Box([Label(value='Height'), height], layout=form_item_layout),\n",
        "    Box([Label(value='Width'), width], layout=form_item_layout),\n",
        "    Box([Label(value='Guidance Scale'), guidance_scale], layout=form_item_layout),\n",
        "    Box([Label(value='Steps'), steps], layout=form_item_layout),\n",
        "    Box([Label(value='Num Images'), num_images_per_prompt], layout=form_item_layout),\n",
        "    Box([Label(value='Generate'), button], layout=form_item_layout),\n",
        "]\n",
        "\n",
        "left_layout = Layout(display='flex', flex_flow='column', border=None, align_items='stretch', width = \"50%\")\n",
        "right_layout = Layout(display='flex', flex_flow='column', border=None, align_items='stretch', width = \"50%\")\n",
        "items = [Box(form_items, layout=left_layout), Box([output], layout=right_layout)]\n",
        "\n",
        "carousel = Box(children=items, layout=Layout(display='flex', flex_flow='row', border=None, width='100%'))\n",
        "vbox = VBox([carousel])\n",
        "vbox"
      ]
    }
  ],
  "metadata": {
    "accelerator": "GPU",
    "colab": {
      "gpuType": "T4",
      "provenance": []
    },
    "kernelspec": {
      "display_name": "Python 3",
      "name": "python3"
    },
    "language_info": {
      "name": "python"
    }
  },
  "nbformat": 4,
  "nbformat_minor": 0
}
